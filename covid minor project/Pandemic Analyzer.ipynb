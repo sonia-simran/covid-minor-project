{
 "cells": [
  {
   "cell_type": "code",
   "execution_count": 1,
   "metadata": {},
   "outputs": [],
   "source": [
    "import tkinter as tk\n",
    "from tkinter  import *\n",
    "\n"
   ]
  },
  {
   "cell_type": "code",
   "execution_count": 2,
   "metadata": {},
   "outputs": [],
   "source": [
    "root = tk.Tk()\n",
    "\n",
    "root.title(\"Pandemic Analytics Engine\")\n",
    "\n",
    "root.geometry(\"200x600\")\n",
    "\n",
    "root.configure(background = \"light grey\")\n",
    "\n",
    "#width = root.winfo_Screenwidth(300)\n",
    "#height = root.winfo_Screenheight(700)\n"
   ]
  },
  {
   "cell_type": "code",
   "execution_count": 3,
   "metadata": {},
   "outputs": [],
   "source": [
    "widget = Button(root,text = \"submit\")\n",
    "#widget.bind()"
   ]
  },
  {
   "cell_type": "code",
   "execution_count": 4,
   "metadata": {},
   "outputs": [],
   "source": [
    "lbl=tk.Label(root,text=\"Pandemic Analyzer\", fg = \"blue\",font=(\"SUNKEN\",30))\n",
    "lbl.grid(row=1,column=1)\n",
    "\n",
    "#lbl.pack(side=LEFT,fill=\"both\",position= TOP)"
   ]
  },
  {
   "cell_type": "code",
   "execution_count": 5,
   "metadata": {},
   "outputs": [],
   "source": [
    "# for converting a scrollbar to a widget\n",
    "# widget(yscrollcommand = Scrollbar.set)\n",
    "#Scrollbar.config(command = widget.yview)yscrollcommand =Scrollbar.set)\n"
   ]
  },
  {
   "cell_type": "code",
   "execution_count": 6,
   "metadata": {},
   "outputs": [],
   "source": [
    "#list_dis =ListBox(root,yscrollcommand = scrollbar.set)\n"
   ]
  },
  {
   "cell_type": "code",
   "execution_count": 7,
   "metadata": {},
   "outputs": [],
   "source": [
    "#list_dis =[\"Ahmednagar\", \"Akola\", \"Amravati\", \"Aurangabad\", \"Beed\", \"Bhandara\", \"Buldhana\", \"Chandrapur\", \"Dhule\", \n",
    "#           \"Gadchiroli\", \"Gondia\", \"Hingoli\",\"Jalgaon\", \"Jalna\", \"Kolhapur\", \"Latur\", \"Mumbai City\", \"MumbaiSuburban\", \n",
    "#           \"Nagpur\", \"Nanded\", \"Nandurbar\", \"Nashik\", \"Osmanabad\", \"Palghar\",\"Parbhani\", \"Pune\", \"Raigad\", \"Ratnagiri\", \"Sangli\", \"Satara\", \"Sindhudurg\", \n",
    "#           \"Solapur\", \"Thane\", \"Wardha\", \"Washim\", \"Yavatmal\"]\n",
    "# list_dic.pack(side = RIGHT,fill =\"both\")"
   ]
  },
  {
   "cell_type": "code",
   "execution_count": 8,
   "metadata": {},
   "outputs": [],
   "source": [
    "#for i in (list_dis):"
   ]
  },
  {
   "cell_type": "code",
   "execution_count": 9,
   "metadata": {},
   "outputs": [],
   "source": [
    "#lbl.pack(side=RIGHT,fill=\"both\",expand =True)"
   ]
  },
  {
   "cell_type": "code",
   "execution_count": 10,
   "metadata": {},
   "outputs": [],
   "source": [
    "lbl_state=tk.Label(root,text=\"Select Any One District of Maharastra\", fg = \"white\",font=(\"SUNKEN\",20))\n",
    "lbl_state.grid(row=3, column=1)\n",
    "\n",
    "                  "
   ]
  },
  {
   "cell_type": "code",
   "execution_count": 11,
   "metadata": {},
   "outputs": [],
   "source": [
    " # lbl_state.pack(side = RIGHT, fill =\"both\")"
   ]
  },
  {
   "cell_type": "code",
   "execution_count": 12,
   "metadata": {},
   "outputs": [],
   "source": [
    "##lbl=tk.Label(root,text=\"Pandemic Analyzer\", fg = \"blue\",font=(\"SUNKEN\",40)).grid(row=0, column=2)\n"
   ]
  },
  {
   "cell_type": "code",
   "execution_count": 13,
   "metadata": {},
   "outputs": [],
   "source": [
    "sbar = Scrollbar(root)\n",
    "#sbar.pack(side= RIGHT,fill=Y)\n",
    "sbar.grid(row =8, column=25)"
   ]
  },
  {
   "cell_type": "code",
   "execution_count": 14,
   "metadata": {},
   "outputs": [],
   "source": [
    "\n",
    "\n",
    "lbx =Listbox(root, yscrollcommand = sbar.set) \n",
    "\n",
    "lbx.insert(END,\"Ahmednagar\")\n",
    "lbx.insert(END, \"Akola\")\n",
    "lbx.insert(END,\"Amravati\")\n",
    "lbx.insert(END, \"Aurangabad\")\n",
    "lbx.insert(END,\"Beed\")\n",
    "lbx.insert(END,\"Bhandara\")\n",
    "lbx.insert(END,\"Buldhana\")\n",
    "lbx.insert(END,\"Chandrapur\")\n",
    "lbx.insert(END,\"Dhule\")\n",
    "lbx.insert(END,\"Gadchiroli\")\n",
    "lbx.insert(END,\"Gondia\")\n",
    "lbx.insert(END,\"Hingoli\")\n",
    "lbx.insert(END,\"Jalgaon\")\n",
    "lbx.insert(END, \"Jalna\")\n",
    "lbx.insert(END, \"Kolhapur\")\n",
    "lbx.insert(END, \"Latur\")\n",
    "lbx.insert(END, \"Mumbai City\")\n",
    "lbx.insert(END,\"MumbaiSuburban\")\n",
    "lbx.insert(END, \"Nagpur\")\n",
    "lbx.insert(END, \"Nanded\")\n",
    "lbx.insert(END, \"Nandurbar\")\n",
    "lbx.insert(END,\"Nashik\")\n",
    "lbx.insert(END, \"Osmanabad\")\n",
    "lbx.insert(END, \"Palghar\")\n",
    "lbx.insert(END,\"Parbhani\")\n",
    "lbx.insert(END, \"Pune\")\n",
    "lbx.insert(END, \"Raigad\")\n",
    "lbx.insert(END, \"Ratnagiri\")\n",
    "lbx.insert(END, \"Sangli\")\n",
    "lbx.insert(END, \"Satara\"),\n",
    "lbx.insert(END,\"Sindhudurg\")\n",
    "lbx.insert(END,\"Solapur\")\n",
    "lbx.insert(END, \"Thane\")\n",
    "lbx.insert(END, \"Wardha\")\n",
    "lbx.insert(END, \"Washim\")\n",
    "lbx.insert(END, \"Yavatmal\")\n",
    "\n",
    "#lbx.pack(fill =\"both\",padx=22)\n",
    "\n",
    "lbx.grid(row=7,column=45)\n",
    "\n",
    "#lbx.pack(side=RIGHT,fill=\"both\")\n",
    "sbar.config(command = lbx.yview)"
   ]
  },
  {
   "cell_type": "code",
   "execution_count": null,
   "metadata": {},
   "outputs": [],
   "source": []
  },
  {
   "cell_type": "code",
   "execution_count": 15,
   "metadata": {},
   "outputs": [],
   "source": [
    "root.mainloop()"
   ]
  },
  {
   "cell_type": "code",
   "execution_count": null,
   "metadata": {},
   "outputs": [],
   "source": []
  },
  {
   "cell_type": "code",
   "execution_count": null,
   "metadata": {},
   "outputs": [],
   "source": []
  },
  {
   "cell_type": "code",
   "execution_count": null,
   "metadata": {},
   "outputs": [],
   "source": []
  }
 ],
 "metadata": {
  "kernelspec": {
   "display_name": "Python 3",
   "language": "python",
   "name": "python3"
  },
  "language_info": {
   "codemirror_mode": {
    "name": "ipython",
    "version": 3
   },
   "file_extension": ".py",
   "mimetype": "text/x-python",
   "name": "python",
   "nbconvert_exporter": "python",
   "pygments_lexer": "ipython3",
   "version": "3.8.3"
  }
 },
 "nbformat": 4,
 "nbformat_minor": 4
}
